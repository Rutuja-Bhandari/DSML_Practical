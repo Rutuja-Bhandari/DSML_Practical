{
 "cells": [
  {
   "cell_type": "markdown",
   "id": "9154a26f",
   "metadata": {},
   "source": [
    "5. Write a program to do: A dataset collected in a cosmetics shop showing\n",
    "details of customers and whether or not they responded to a special offer\n",
    "to buy a new lip-stick is shown in table below. (Use library commands)\n",
    "According to the decision tree you have made from the previous training\n",
    "data set, what is the decision for the test data: [Age < 21, Income = Low,\n",
    "Gender = Female, Marital Status = Married]?\n",
    "\n",
    "6. [Age > 35, Income = Medium, Gender = Female, Marital Status = Married]?\n",
    "8.[Age = 21-35, Income = Low,Gender = Male, Marital Status = Married]?"
   ]
  },
  {
   "cell_type": "code",
   "execution_count": null,
   "id": "6bc6bea9",
   "metadata": {},
   "outputs": [],
   "source": [
    "#Assignment 5\n",
    "test_data5=[[0,0,1,1]]\n",
    "prediction=model.predict(test_data5)\n",
    "print(prediction)"
   ]
  },
  {
   "cell_type": "code",
   "execution_count": 40,
   "id": "028a534a",
   "metadata": {},
   "outputs": [
    {
     "data": {
      "text/html": [
       "<div>\n",
       "<style scoped>\n",
       "    .dataframe tbody tr th:only-of-type {\n",
       "        vertical-align: middle;\n",
       "    }\n",
       "\n",
       "    .dataframe tbody tr th {\n",
       "        vertical-align: top;\n",
       "    }\n",
       "\n",
       "    .dataframe thead th {\n",
       "        text-align: right;\n",
       "    }\n",
       "</style>\n",
       "<table border=\"1\" class=\"dataframe\">\n",
       "  <thead>\n",
       "    <tr style=\"text-align: right;\">\n",
       "      <th></th>\n",
       "      <th>Id</th>\n",
       "      <th>Age</th>\n",
       "      <th>Income</th>\n",
       "      <th>Gender</th>\n",
       "      <th>Ms</th>\n",
       "      <th>Buys</th>\n",
       "    </tr>\n",
       "  </thead>\n",
       "  <tbody>\n",
       "    <tr>\n",
       "      <th>0</th>\n",
       "      <td>1</td>\n",
       "      <td>&lt;21</td>\n",
       "      <td>High</td>\n",
       "      <td>Male</td>\n",
       "      <td>Single</td>\n",
       "      <td>No</td>\n",
       "    </tr>\n",
       "    <tr>\n",
       "      <th>1</th>\n",
       "      <td>2</td>\n",
       "      <td>&lt;21</td>\n",
       "      <td>High</td>\n",
       "      <td>Male</td>\n",
       "      <td>Married</td>\n",
       "      <td>No</td>\n",
       "    </tr>\n",
       "    <tr>\n",
       "      <th>2</th>\n",
       "      <td>3</td>\n",
       "      <td>21-35</td>\n",
       "      <td>High</td>\n",
       "      <td>Male</td>\n",
       "      <td>Single</td>\n",
       "      <td>Yes</td>\n",
       "    </tr>\n",
       "    <tr>\n",
       "      <th>3</th>\n",
       "      <td>4</td>\n",
       "      <td>&gt;35</td>\n",
       "      <td>Medium</td>\n",
       "      <td>Male</td>\n",
       "      <td>Single</td>\n",
       "      <td>Yes</td>\n",
       "    </tr>\n",
       "    <tr>\n",
       "      <th>4</th>\n",
       "      <td>5</td>\n",
       "      <td>&gt;35</td>\n",
       "      <td>Low</td>\n",
       "      <td>Female</td>\n",
       "      <td>Single</td>\n",
       "      <td>Yes</td>\n",
       "    </tr>\n",
       "    <tr>\n",
       "      <th>5</th>\n",
       "      <td>6</td>\n",
       "      <td>&gt;35</td>\n",
       "      <td>Low</td>\n",
       "      <td>Female</td>\n",
       "      <td>Married</td>\n",
       "      <td>No</td>\n",
       "    </tr>\n",
       "    <tr>\n",
       "      <th>6</th>\n",
       "      <td>7</td>\n",
       "      <td>21-35</td>\n",
       "      <td>Low</td>\n",
       "      <td>Female</td>\n",
       "      <td>Married</td>\n",
       "      <td>Yes</td>\n",
       "    </tr>\n",
       "    <tr>\n",
       "      <th>7</th>\n",
       "      <td>8</td>\n",
       "      <td>&lt;21</td>\n",
       "      <td>Medium</td>\n",
       "      <td>Male</td>\n",
       "      <td>Single</td>\n",
       "      <td>No</td>\n",
       "    </tr>\n",
       "    <tr>\n",
       "      <th>8</th>\n",
       "      <td>9</td>\n",
       "      <td>&lt;21</td>\n",
       "      <td>Low</td>\n",
       "      <td>Female</td>\n",
       "      <td>Married</td>\n",
       "      <td>Yes</td>\n",
       "    </tr>\n",
       "    <tr>\n",
       "      <th>9</th>\n",
       "      <td>10</td>\n",
       "      <td>&gt;35</td>\n",
       "      <td>Medium</td>\n",
       "      <td>Female</td>\n",
       "      <td>Single</td>\n",
       "      <td>Yes</td>\n",
       "    </tr>\n",
       "    <tr>\n",
       "      <th>10</th>\n",
       "      <td>11</td>\n",
       "      <td>&lt;21</td>\n",
       "      <td>Medium</td>\n",
       "      <td>Female</td>\n",
       "      <td>Married</td>\n",
       "      <td>Yes</td>\n",
       "    </tr>\n",
       "    <tr>\n",
       "      <th>11</th>\n",
       "      <td>12</td>\n",
       "      <td>21-35</td>\n",
       "      <td>Medium</td>\n",
       "      <td>Male</td>\n",
       "      <td>Married</td>\n",
       "      <td>Yes</td>\n",
       "    </tr>\n",
       "    <tr>\n",
       "      <th>12</th>\n",
       "      <td>13</td>\n",
       "      <td>21-35</td>\n",
       "      <td>High</td>\n",
       "      <td>Female</td>\n",
       "      <td>Single</td>\n",
       "      <td>Yes</td>\n",
       "    </tr>\n",
       "    <tr>\n",
       "      <th>13</th>\n",
       "      <td>14</td>\n",
       "      <td>&gt;35</td>\n",
       "      <td>Medium</td>\n",
       "      <td>Male</td>\n",
       "      <td>Married</td>\n",
       "      <td>No</td>\n",
       "    </tr>\n",
       "  </tbody>\n",
       "</table>\n",
       "</div>"
      ],
      "text/plain": [
       "    Id    Age  Income  Gender       Ms Buys\n",
       "0    1    <21    High    Male   Single   No\n",
       "1    2    <21    High    Male  Married   No\n",
       "2    3  21-35    High    Male   Single  Yes\n",
       "3    4    >35  Medium    Male   Single  Yes\n",
       "4    5    >35     Low  Female   Single  Yes\n",
       "5    6    >35     Low  Female  Married   No\n",
       "6    7  21-35     Low  Female  Married  Yes\n",
       "7    8    <21  Medium    Male   Single   No\n",
       "8    9    <21     Low  Female  Married  Yes\n",
       "9   10    >35  Medium  Female   Single  Yes\n",
       "10  11    <21  Medium  Female  Married  Yes\n",
       "11  12  21-35  Medium    Male  Married  Yes\n",
       "12  13  21-35    High  Female   Single  Yes\n",
       "13  14    >35  Medium    Male  Married   No"
      ]
     },
     "execution_count": 40,
     "metadata": {},
     "output_type": "execute_result"
    }
   ],
   "source": [
    "df=pd.read_csv(\"D:\\Datasets\\Datasets\\Lipstick.csv\")\n",
    "df"
   ]
  },
  {
   "cell_type": "code",
   "execution_count": 41,
   "id": "5ccbb28a",
   "metadata": {},
   "outputs": [
    {
     "data": {
      "text/html": [
       "<div>\n",
       "<style scoped>\n",
       "    .dataframe tbody tr th:only-of-type {\n",
       "        vertical-align: middle;\n",
       "    }\n",
       "\n",
       "    .dataframe tbody tr th {\n",
       "        vertical-align: top;\n",
       "    }\n",
       "\n",
       "    .dataframe thead th {\n",
       "        text-align: right;\n",
       "    }\n",
       "</style>\n",
       "<table border=\"1\" class=\"dataframe\">\n",
       "  <thead>\n",
       "    <tr style=\"text-align: right;\">\n",
       "      <th></th>\n",
       "      <th>Id</th>\n",
       "    </tr>\n",
       "  </thead>\n",
       "  <tbody>\n",
       "    <tr>\n",
       "      <th>count</th>\n",
       "      <td>14.0000</td>\n",
       "    </tr>\n",
       "    <tr>\n",
       "      <th>mean</th>\n",
       "      <td>7.5000</td>\n",
       "    </tr>\n",
       "    <tr>\n",
       "      <th>std</th>\n",
       "      <td>4.1833</td>\n",
       "    </tr>\n",
       "    <tr>\n",
       "      <th>min</th>\n",
       "      <td>1.0000</td>\n",
       "    </tr>\n",
       "    <tr>\n",
       "      <th>25%</th>\n",
       "      <td>4.2500</td>\n",
       "    </tr>\n",
       "    <tr>\n",
       "      <th>50%</th>\n",
       "      <td>7.5000</td>\n",
       "    </tr>\n",
       "    <tr>\n",
       "      <th>75%</th>\n",
       "      <td>10.7500</td>\n",
       "    </tr>\n",
       "    <tr>\n",
       "      <th>max</th>\n",
       "      <td>14.0000</td>\n",
       "    </tr>\n",
       "  </tbody>\n",
       "</table>\n",
       "</div>"
      ],
      "text/plain": [
       "            Id\n",
       "count  14.0000\n",
       "mean    7.5000\n",
       "std     4.1833\n",
       "min     1.0000\n",
       "25%     4.2500\n",
       "50%     7.5000\n",
       "75%    10.7500\n",
       "max    14.0000"
      ]
     },
     "execution_count": 41,
     "metadata": {},
     "output_type": "execute_result"
    }
   ],
   "source": [
    "df.describe()"
   ]
  },
  {
   "cell_type": "code",
   "execution_count": 42,
   "id": "91c409dd",
   "metadata": {},
   "outputs": [
    {
     "data": {
      "text/plain": [
       "84"
      ]
     },
     "execution_count": 42,
     "metadata": {},
     "output_type": "execute_result"
    }
   ],
   "source": [
    "df.size"
   ]
  },
  {
   "cell_type": "code",
   "execution_count": 43,
   "id": "29e7c3bb",
   "metadata": {},
   "outputs": [
    {
     "data": {
      "text/plain": [
       "Id        0\n",
       "Age       0\n",
       "Income    0\n",
       "Gender    0\n",
       "Ms        0\n",
       "Buys      0\n",
       "dtype: int64"
      ]
     },
     "execution_count": 43,
     "metadata": {},
     "output_type": "execute_result"
    }
   ],
   "source": [
    "df.isnull().sum()"
   ]
  },
  {
   "cell_type": "code",
   "execution_count": 44,
   "id": "0eccecb4",
   "metadata": {
    "scrolled": true
   },
   "outputs": [
    {
     "data": {
      "text/plain": [
       "Id         Int64\n",
       "Age       string\n",
       "Income    string\n",
       "Gender    string\n",
       "Ms        string\n",
       "Buys      string\n",
       "dtype: object"
      ]
     },
     "execution_count": 44,
     "metadata": {},
     "output_type": "execute_result"
    }
   ],
   "source": [
    "datatype=df.convert_dtypes()\n",
    "datatype.dtypes"
   ]
  },
  {
   "cell_type": "code",
   "execution_count": 45,
   "id": "1c339b7d",
   "metadata": {},
   "outputs": [],
   "source": [
    "#0=<21, 1=21-35, 2=>35\n",
    "def age(value):\n",
    "    if(value==\"<21\"):\n",
    "        return 0\n",
    "    elif(value==\"21-35\"):\n",
    "        return 1\n",
    "    else:\n",
    "        return 2\n",
    "    \n",
    "df['Age']=df['Age'].apply(age)"
   ]
  },
  {
   "cell_type": "code",
   "execution_count": 47,
   "id": "c8dcf3dc",
   "metadata": {},
   "outputs": [],
   "source": [
    "#0=low, 1=medium, 2=high\n",
    "def income(value):\n",
    "    if(value==\"High\"):\n",
    "        return 2\n",
    "    elif(value==\"Medium\"):\n",
    "        return 1\n",
    "    else:\n",
    "        return 0\n",
    "    \n",
    "df['Income']=df['Income'].apply(income)"
   ]
  },
  {
   "cell_type": "code",
   "execution_count": 48,
   "id": "8b66703a",
   "metadata": {},
   "outputs": [],
   "source": [
    "#0=male, 1=female\n",
    "def Gender(value):\n",
    "    if(value==\"Male\"):\n",
    "        return 0\n",
    "    elif(value==\"Female\"):\n",
    "        return 1\n",
    "    \n",
    "df['Gender']=df['Gender'].apply(Gender)"
   ]
  },
  {
   "cell_type": "code",
   "execution_count": 49,
   "id": "3f87a4d0",
   "metadata": {},
   "outputs": [],
   "source": [
    "#0=single, 1=married\n",
    "def Ms(value):\n",
    "    if(value==\"Single\"):\n",
    "        return 0\n",
    "    elif(value==\"Married\"):\n",
    "        return 1\n",
    "    \n",
    "df['Ms']=df['Ms'].apply(Ms)"
   ]
  },
  {
   "cell_type": "code",
   "execution_count": 50,
   "id": "1af28aea",
   "metadata": {},
   "outputs": [],
   "source": [
    "#0=no, 1=yes\n",
    "def Buys(value):\n",
    "    if(value==\"Yes\"):\n",
    "        return 1\n",
    "    elif(value==\"No\"):\n",
    "        return 0\n",
    "    \n",
    "df['Buys']=df['Buys'].apply(Buys)"
   ]
  },
  {
   "cell_type": "code",
   "execution_count": 51,
   "id": "4582e41b",
   "metadata": {},
   "outputs": [
    {
     "data": {
      "text/plain": [
       "Id        Int64\n",
       "Age       Int64\n",
       "Income    Int64\n",
       "Gender    Int64\n",
       "Ms        Int64\n",
       "Buys      Int64\n",
       "dtype: object"
      ]
     },
     "execution_count": 51,
     "metadata": {},
     "output_type": "execute_result"
    }
   ],
   "source": [
    "datatypes=df.convert_dtypes()\n",
    "datatypes.dtypes"
   ]
  },
  {
   "cell_type": "code",
   "execution_count": 66,
   "id": "46a89a2a",
   "metadata": {},
   "outputs": [
    {
     "name": "stdout",
     "output_type": "stream",
     "text": [
      "accuracy  0.6666666666666666\n",
      "precision  1.0\n",
      "recall  0.6666666666666666\n",
      "f1  0.8\n"
     ]
    }
   ],
   "source": [
    "y=df['Buys']\n",
    "x=df.drop(['Buys','Id'],axis=1)\n",
    "x_train,x_test,y_train,y_test=train_test_split(x,y,test_size=0.2,random_state=35)\n",
    "model=DecisionTreeClassifier(random_state=33)\n",
    "model.fit(x_train,y_train)\n",
    "y_pred=model.predict(x_test)\n",
    "\n",
    "accuracy=accuracy_score(y_test,y_pred)\n",
    "print(\"accuracy \",accuracy)\n",
    "precision=precision_score(y_test,y_pred)\n",
    "print(\"precision \",precision)\n",
    "recall=recall_score(y_test,y_pred)\n",
    "print(\"recall \",recall)\n",
    "f1=f1_score(y_test,y_pred)\n",
    "print(\"f1 \",f1)"
   ]
  },
  {
   "cell_type": "code",
   "execution_count": 57,
   "id": "963e28ba",
   "metadata": {},
   "outputs": [
    {
     "name": "stdout",
     "output_type": "stream",
     "text": [
      "[1]\n"
     ]
    },
    {
     "name": "stderr",
     "output_type": "stream",
     "text": [
      "C:\\Users\\RUTUJA\\anaconda3\\lib\\site-packages\\sklearn\\base.py:450: UserWarning: X does not have valid feature names, but DecisionTreeClassifier was fitted with feature names\n",
      "  warnings.warn(\n"
     ]
    }
   ],
   "source": [
    "#Assignment 5\n",
    "test_data5=[[0,0,1,1]]\n",
    "prediction=model.predict(test_data5)\n",
    "print(prediction)"
   ]
  },
  {
   "cell_type": "code",
   "execution_count": 58,
   "id": "f259a6aa",
   "metadata": {},
   "outputs": [
    {
     "name": "stdout",
     "output_type": "stream",
     "text": [
      "[1]\n"
     ]
    },
    {
     "name": "stderr",
     "output_type": "stream",
     "text": [
      "C:\\Users\\RUTUJA\\anaconda3\\lib\\site-packages\\sklearn\\base.py:450: UserWarning: X does not have valid feature names, but DecisionTreeClassifier was fitted with feature names\n",
      "  warnings.warn(\n"
     ]
    }
   ],
   "source": [
    "#Assignment 6\n",
    "test_data6=[[2,1,1,1]]\n",
    "prediction=model.predict(test_data6)\n",
    "print(prediction)"
   ]
  },
  {
   "cell_type": "code",
   "execution_count": 67,
   "id": "19e86494",
   "metadata": {},
   "outputs": [
    {
     "name": "stdout",
     "output_type": "stream",
     "text": [
      "[1]\n"
     ]
    },
    {
     "name": "stderr",
     "output_type": "stream",
     "text": [
      "C:\\Users\\RUTUJA\\anaconda3\\lib\\site-packages\\sklearn\\base.py:450: UserWarning: X does not have valid feature names, but DecisionTreeClassifier was fitted with feature names\n",
      "  warnings.warn(\n"
     ]
    }
   ],
   "source": [
    "#Assignment 8\n",
    "test_data8=[[1,0,0,1]]\n",
    "prediction=model.predict(test_data8)\n",
    "print(prediction)"
   ]
  },
  {
   "cell_type": "code",
   "execution_count": null,
   "id": "440ef7c1",
   "metadata": {},
   "outputs": [],
   "source": []
  }
 ],
 "metadata": {
  "kernelspec": {
   "display_name": "Python 3 (ipykernel)",
   "language": "python",
   "name": "python3"
  },
  "language_info": {
   "codemirror_mode": {
    "name": "ipython",
    "version": 3
   },
   "file_extension": ".py",
   "mimetype": "text/x-python",
   "name": "python",
   "nbconvert_exporter": "python",
   "pygments_lexer": "ipython3",
   "version": "3.9.13"
  }
 },
 "nbformat": 4,
 "nbformat_minor": 5
}
