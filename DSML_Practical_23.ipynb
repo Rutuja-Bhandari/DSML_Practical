{
 "cells": [
  {
   "cell_type": "code",
   "execution_count": 1,
   "id": "2481609c",
   "metadata": {},
   "outputs": [
    {
     "name": "stdout",
     "output_type": "stream",
     "text": [
      "Frequency Table:\n",
      "      Age  Count\n",
      "0   Young      5\n",
      "1     Old      5\n",
      "2  Middle      4\n",
      "\n",
      "Information Gain:\n",
      "Total Entropy before split: 0.9403\n",
      "Entropy after split on Age: 0.6935\n",
      "Information Gain: 0.2467\n"
     ]
    }
   ],
   "source": [
    "import pandas as pd\n",
    "import numpy as np\n",
    "\n",
    "data = {'Age': ['Young', 'Young', 'Middle', 'Old', 'Old', 'Old', 'Middle', 'Young', 'Young', 'Old','Young','Middle','Middle','Old'],\n",
    "        'Income': ['High', 'High', 'High', 'Medium', 'Low', 'Low', 'Low', 'Medium', 'Low', 'Medium','Medium','Medium','High','Medium'],\n",
    "        'Married': ['NO', 'No', 'No', 'No', 'Yes', 'Yes', 'Yes', 'No', 'Yes', 'Yes', 'Yes', 'No', 'Yes', 'No'],\n",
    "        'Health': ['Fair', 'Good', 'Fair', 'Fair', 'Fair', 'Good', 'Good', 'Fair', 'Fair', 'Fair', 'Good', 'Good', 'Fair', 'Good'],\n",
    "        'Class': ['No', 'No', 'Yes', 'Yes', 'Yes', 'No', 'Yes', 'No', 'Yes', 'Yes', 'Yes', 'Yes', 'Yes', 'No']}\n",
    "\n",
    "df = pd.DataFrame(data)\n",
    "\n",
    "frequency_table = df['Age'].value_counts().reset_index()\n",
    "frequency_table.columns = ['Age', 'Count']\n",
    "\n",
    "\n",
    "print(\"Frequency Table:\")\n",
    "print(frequency_table)\n",
    "\n",
    "\n",
    "total_entropy_before = -sum((df['Class'].value_counts() / len(df)) * np.log2(df['Class'].value_counts() / len(df)))\n",
    "\n",
    "\n",
    "entropy_after_split = 0\n",
    "for age in frequency_table['Age']:\n",
    "    subset = df[df['Age'] == age]\n",
    "    entropy_after_split += (len(subset) / len(df)) * (-sum((subset['Class'].value_counts() / len(subset)) * np.log2(subset['Class'].value_counts() / len(subset))))\n",
    "    \n",
    "    \n",
    "information_gain = total_entropy_before - entropy_after_split\n",
    "\n",
    "print(\"\\nInformation Gain:\")\n",
    "print(f\"Total Entropy before split: {total_entropy_before:.4f}\")\n",
    "print(f\"Entropy after split on Age: {entropy_after_split:.4f}\")\n",
    "print(f\"Information Gain: {information_gain:.4f}\")"
   ]
  },
  {
   "cell_type": "code",
   "execution_count": 20,
   "id": "90b6d986",
   "metadata": {},
   "outputs": [
    {
     "name": "stdout",
     "output_type": "stream",
     "text": [
      "Frequency table\n",
      "      Age  Count\n",
      "0   Young      5\n",
      "1     Old      5\n",
      "2  Middle      4\n",
      "Information gain  0.24674981977443933\n",
      "entropy before  0.9402859586706311\n",
      "entropy after  0.6935361388961918\n"
     ]
    }
   ],
   "source": [
    "import pandas as pd\n",
    "import numpy as np\n",
    "\n",
    "data = {'Age': ['Young', 'Young', 'Middle', 'Old', 'Old', 'Old', 'Middle', 'Young', 'Young', 'Old','Young','Middle','Middle','Old'],\n",
    "        'Income': ['High', 'High', 'High', 'Medium', 'Low', 'Low', 'Low', 'Medium', 'Low', 'Medium','Medium','Medium','High','Medium'],\n",
    "        'Married': ['NO', 'No', 'No', 'No', 'Yes', 'Yes', 'Yes', 'No', 'Yes', 'Yes', 'Yes', 'No', 'Yes', 'No'],\n",
    "        'Health': ['Fair', 'Good', 'Fair', 'Fair', 'Fair', 'Good', 'Good', 'Fair', 'Fair', 'Fair', 'Good', 'Good', 'Fair', 'Good'],\n",
    "        'Class': ['No', 'No', 'Yes', 'Yes', 'Yes', 'No', 'Yes', 'No', 'Yes', 'Yes', 'Yes', 'Yes', 'Yes', 'No']}\n",
    "df=pd.DataFrame(data)\n",
    "df\n",
    "\n",
    "frequency_table=df['Age'].value_counts().reset_index()\n",
    "frequency_table.columns=['Age','Count']\n",
    "\n",
    "print(\"Frequency table\")\n",
    "print(frequency_table)\n",
    "\n",
    "entropy_before=-sum((df['Class'].value_counts()/len(df)) * np.log2(df['Class'].value_counts()/len(df)))\n",
    "\n",
    "entropy_after=0\n",
    "for age in frequency_table['Age']:\n",
    "    subset=df[df['Age']==age]\n",
    "    entropy_after+= (len(subset)/len(df))*(-sum((subset['Class'].value_counts()/len(subset))* np.log2(subset['Class'].value_counts()/len(subset))))\n",
    "    \n",
    "information_gain=entropy_before- entropy_after\n",
    "print(\"Information gain \",information_gain)\n",
    "print(\"entropy before \",entropy_before)\n",
    "print(\"entropy after \",entropy_after)"
   ]
  },
  {
   "cell_type": "code",
   "execution_count": 37,
   "id": "7585128b",
   "metadata": {},
   "outputs": [
    {
     "name": "stdout",
     "output_type": "stream",
     "text": [
      "Frequency table\n",
      "      Age  Counts\n",
      "0   Young       5\n",
      "1     Old       5\n",
      "2  Middle       4\n",
      "Entropy before  0.9402859586706311\n",
      "Entropy after\n",
      "0.6935361388961918\n",
      "Informatio gain  0.24674981977443933\n"
     ]
    }
   ],
   "source": [
    "import pandas as pd\n",
    "import numpy as np\n",
    "\n",
    "data = {'Age': ['Young', 'Young', 'Middle', 'Old', 'Old', 'Old', 'Middle', 'Young', 'Young', 'Old','Young','Middle','Middle','Old'],\n",
    "        'Income': ['High', 'High', 'High', 'Medium', 'Low', 'Low', 'Low', 'Medium', 'Low', 'Medium','Medium','Medium','High','Medium'],\n",
    "        'Married': ['NO', 'No', 'No', 'No', 'Yes', 'Yes', 'Yes', 'No', 'Yes', 'Yes', 'Yes', 'No', 'Yes', 'No'],\n",
    "        'Health': ['Fair', 'Good', 'Fair', 'Fair', 'Fair', 'Good', 'Good', 'Fair', 'Fair', 'Fair', 'Good', 'Good', 'Fair', 'Good'],\n",
    "        'Class': ['No', 'No', 'Yes', 'Yes', 'Yes', 'No', 'Yes', 'No', 'Yes', 'Yes', 'Yes', 'Yes', 'Yes', 'No']}\n",
    "df=pd.DataFrame(data)\n",
    "df\n",
    "\n",
    "frequency_table=df['Age'].value_counts().reset_index()\n",
    "frequency_table.columns=['Age','Counts']\n",
    "\n",
    "print(\"Frequency table\")\n",
    "print(frequency_table)\n",
    "\n",
    "entropy_before=-(sum((df['Class'].value_counts()/len(df))*np.log2(df['Class'].value_counts()/len(df))))\n",
    "print(\"Entropy before \",entropy_before)                \n",
    "\n",
    "entropy_after = 0\n",
    "for age in frequency_table['Age']:\n",
    "    subset = df[df['Age'] == age]\n",
    "    entropy_after += (len(subset) / len(df)) * (-sum((subset['Class'].value_counts() / len(subset)) * np.log2(subset['Class'].value_counts() / len(subset))))\n",
    "    \n",
    "                 \n",
    "print(\"Entropy after\")\n",
    "print(entropy_after)\n",
    "\n",
    "print(\"Informatio gain \",entropy_before-entropy_after)"
   ]
  },
  {
   "cell_type": "code",
   "execution_count": null,
   "id": "3bde6e7f",
   "metadata": {},
   "outputs": [],
   "source": []
  }
 ],
 "metadata": {
  "kernelspec": {
   "display_name": "Python 3 (ipykernel)",
   "language": "python",
   "name": "python3"
  },
  "language_info": {
   "codemirror_mode": {
    "name": "ipython",
    "version": 3
   },
   "file_extension": ".py",
   "mimetype": "text/x-python",
   "name": "python",
   "nbconvert_exporter": "python",
   "pygments_lexer": "ipython3",
   "version": "3.9.13"
  }
 },
 "nbformat": 4,
 "nbformat_minor": 5
}
