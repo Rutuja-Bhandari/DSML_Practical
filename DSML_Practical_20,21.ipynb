{
 "cells": [
  {
   "cell_type": "markdown",
   "id": "0782b6a6",
   "metadata": {},
   "source": [
    "20. Write a program to cluster a set of points using K-means for IRIS\n",
    "dataset. Consider, K=3, clusters. Consider Euclidean distance as the\n",
    "distance measure. Randomly initialize a cluster mean as one of the data\n",
    "points. Iterate at least for 10 iterations. After iterations are over, print the\n",
    "final cluster means for each of the clusters.\n"
   ]
  },
  {
   "cell_type": "code",
   "execution_count": 1,
   "id": "64e2c49c",
   "metadata": {},
   "outputs": [
    {
     "name": "stderr",
     "output_type": "stream",
     "text": [
      "C:\\Users\\RUTUJA\\anaconda3\\lib\\site-packages\\scipy\\__init__.py:155: UserWarning: A NumPy version >=1.18.5 and <1.25.0 is required for this version of SciPy (detected version 1.26.0\n",
      "  warnings.warn(f\"A NumPy version >={np_minversion} and <{np_maxversion}\"\n"
     ]
    }
   ],
   "source": [
    "import numpy as np\n",
    "import pandas as pd\n",
    "from sklearn.cluster import KMeans\n"
   ]
  },
  {
   "cell_type": "code",
   "execution_count": 2,
   "id": "e395f748",
   "metadata": {},
   "outputs": [
    {
     "data": {
      "text/html": [
       "<div>\n",
       "<style scoped>\n",
       "    .dataframe tbody tr th:only-of-type {\n",
       "        vertical-align: middle;\n",
       "    }\n",
       "\n",
       "    .dataframe tbody tr th {\n",
       "        vertical-align: top;\n",
       "    }\n",
       "\n",
       "    .dataframe thead th {\n",
       "        text-align: right;\n",
       "    }\n",
       "</style>\n",
       "<table border=\"1\" class=\"dataframe\">\n",
       "  <thead>\n",
       "    <tr style=\"text-align: right;\">\n",
       "      <th></th>\n",
       "      <th>sepal length (cm)</th>\n",
       "      <th>sepal width (cm)</th>\n",
       "      <th>petal length (cm)</th>\n",
       "      <th>petal width (cm)</th>\n",
       "    </tr>\n",
       "  </thead>\n",
       "  <tbody>\n",
       "    <tr>\n",
       "      <th>0</th>\n",
       "      <td>5.1</td>\n",
       "      <td>3.5</td>\n",
       "      <td>1.4</td>\n",
       "      <td>0.2</td>\n",
       "    </tr>\n",
       "    <tr>\n",
       "      <th>1</th>\n",
       "      <td>4.9</td>\n",
       "      <td>3.0</td>\n",
       "      <td>1.4</td>\n",
       "      <td>0.2</td>\n",
       "    </tr>\n",
       "    <tr>\n",
       "      <th>2</th>\n",
       "      <td>4.7</td>\n",
       "      <td>3.2</td>\n",
       "      <td>1.3</td>\n",
       "      <td>0.2</td>\n",
       "    </tr>\n",
       "    <tr>\n",
       "      <th>3</th>\n",
       "      <td>4.6</td>\n",
       "      <td>3.1</td>\n",
       "      <td>1.5</td>\n",
       "      <td>0.2</td>\n",
       "    </tr>\n",
       "    <tr>\n",
       "      <th>4</th>\n",
       "      <td>5.0</td>\n",
       "      <td>3.6</td>\n",
       "      <td>1.4</td>\n",
       "      <td>0.2</td>\n",
       "    </tr>\n",
       "    <tr>\n",
       "      <th>...</th>\n",
       "      <td>...</td>\n",
       "      <td>...</td>\n",
       "      <td>...</td>\n",
       "      <td>...</td>\n",
       "    </tr>\n",
       "    <tr>\n",
       "      <th>145</th>\n",
       "      <td>6.7</td>\n",
       "      <td>3.0</td>\n",
       "      <td>5.2</td>\n",
       "      <td>2.3</td>\n",
       "    </tr>\n",
       "    <tr>\n",
       "      <th>146</th>\n",
       "      <td>6.3</td>\n",
       "      <td>2.5</td>\n",
       "      <td>5.0</td>\n",
       "      <td>1.9</td>\n",
       "    </tr>\n",
       "    <tr>\n",
       "      <th>147</th>\n",
       "      <td>6.5</td>\n",
       "      <td>3.0</td>\n",
       "      <td>5.2</td>\n",
       "      <td>2.0</td>\n",
       "    </tr>\n",
       "    <tr>\n",
       "      <th>148</th>\n",
       "      <td>6.2</td>\n",
       "      <td>3.4</td>\n",
       "      <td>5.4</td>\n",
       "      <td>2.3</td>\n",
       "    </tr>\n",
       "    <tr>\n",
       "      <th>149</th>\n",
       "      <td>5.9</td>\n",
       "      <td>3.0</td>\n",
       "      <td>5.1</td>\n",
       "      <td>1.8</td>\n",
       "    </tr>\n",
       "  </tbody>\n",
       "</table>\n",
       "<p>150 rows × 4 columns</p>\n",
       "</div>"
      ],
      "text/plain": [
       "     sepal length (cm)  sepal width (cm)  petal length (cm)  petal width (cm)\n",
       "0                  5.1               3.5                1.4               0.2\n",
       "1                  4.9               3.0                1.4               0.2\n",
       "2                  4.7               3.2                1.3               0.2\n",
       "3                  4.6               3.1                1.5               0.2\n",
       "4                  5.0               3.6                1.4               0.2\n",
       "..                 ...               ...                ...               ...\n",
       "145                6.7               3.0                5.2               2.3\n",
       "146                6.3               2.5                5.0               1.9\n",
       "147                6.5               3.0                5.2               2.0\n",
       "148                6.2               3.4                5.4               2.3\n",
       "149                5.9               3.0                5.1               1.8\n",
       "\n",
       "[150 rows x 4 columns]"
      ]
     },
     "execution_count": 2,
     "metadata": {},
     "output_type": "execute_result"
    }
   ],
   "source": [
    "#Assignment 20\n",
    "import numpy as np\n",
    "import pandas as pd\n",
    "from sklearn.cluster import KMeans\n",
    "from sklearn.datasets import load_iris\n",
    "\n",
    "# Load Iris dataset\n",
    "iris = load_iris()\n",
    "df = pd.DataFrame(data=iris.data, columns=iris.feature_names)\n",
    "df"
   ]
  },
  {
   "cell_type": "code",
   "execution_count": 17,
   "id": "9210560b",
   "metadata": {},
   "outputs": [
    {
     "name": "stdout",
     "output_type": "stream",
     "text": [
      "Index(['petal_length', 'petal_width', 'sepal_length', 'sepal_width'], dtype='object')\n",
      "Final Cluster Means:\n",
      "Cluster 1: [4.39354839 1.43387097 5.9016129  2.7483871 ]\n",
      "Cluster 2: [1.462 0.246 5.006 3.428]\n",
      "Cluster 3: [5.74210526 2.07105263 6.85       3.07368421]\n"
     ]
    }
   ],
   "source": [
    "# Set the number of clusters (K=4)\n",
    "k = 3\n",
    "\n",
    "# Randomly initialize cluster means\n",
    "columns = df.columns  # Use all columns except the one you want to exclude\n",
    "columns = columns.difference(['species'])  # Exclude 'column1'\n",
    "\n",
    "initial_means = df[columns].sample(n=k, random_state=42)\n",
    "\n",
    "# Perform K-means clustering\n",
    "kmeans = KMeans(n_clusters=k, init=initial_means, n_init=1, random_state=42, max_iter=10)\n",
    "kmeans.fit(df[columns])\n",
    "\n",
    "# Get the final cluster means\n",
    "final_means = kmeans.cluster_centers_\n",
    "\n",
    "# Print the final cluster means\n",
    "print(\"Final Cluster Means:\")\n",
    "for i, mean in enumerate(final_means):\n",
    "    print(f\"Cluster {i+1}: {mean}\",)\n"
   ]
  },
  {
   "cell_type": "markdown",
   "id": "30da2b7d",
   "metadata": {},
   "source": [
    "For example, for Cluster 1, the centroid values are approximately:\n",
    "\n",
    "Sepal Length: 4.95\n",
    "Sepal Width: 1.73\n",
    "Petal Length: 6.29\n",
    "Petal Width: 2.9"
   ]
  },
  {
   "cell_type": "code",
   "execution_count": 4,
   "id": "aed7b332",
   "metadata": {},
   "outputs": [
    {
     "name": "stdout",
     "output_type": "stream",
     "text": [
      "Final Cluster Means:\n",
      "Cluster 1: [4.95106383 1.72978723 6.29361702 2.9       ]\n",
      "Cluster 2: [1.462 0.246 5.006 3.428]\n",
      "Cluster 3: [6.01304348 2.14347826 7.08695652 3.12608696]\n",
      "Cluster 4: [3.98666667 1.23333333 5.58       2.63333333]\n"
     ]
    }
   ],
   "source": [
    "#Assignment 21\n",
    "import numpy as np\n",
    "import pandas as pd\n",
    "from sklearn.cluster import KMeans\n",
    "from sklearn.datasets import load_iris\n",
    "\n",
    "# Load Iris dataset\n",
    "iris = load_iris()\n",
    "df = pd.DataFrame(data=iris.data, columns=iris.feature_names)\n",
    "\n",
    "# Set the number of clusters (K=4)\n",
    "k = 4\n",
    "\n",
    "# Randomly initialize cluster means\n",
    "columns_for_clustering = df.columns  # Use all columns except the one you want to exclude\n",
    "columns_for_clustering = columns_for_clustering.difference(['species'])  # Exclude 'column1'\n",
    "\n",
    "initial_means = df[columns_for_clustering].sample(n=k, random_state=42)\n",
    "\n",
    "# Perform K-means clustering\n",
    "kmeans = KMeans(n_clusters=k, init=initial_means, n_init=1, random_state=42, max_iter=10)\n",
    "df['cluster'] = kmeans.fit_predict(df[columns_for_clustering])\n",
    "\n",
    "# Get the final cluster means\n",
    "final_means = kmeans.cluster_centers_\n",
    "\n",
    "# Print the final cluster means\n",
    "print(\"Final Cluster Means:\")\n",
    "for i, mean in enumerate(final_means):\n",
    "    print(f\"Cluster {i+1}: {mean}\")\n"
   ]
  },
  {
   "cell_type": "code",
   "execution_count": null,
   "id": "61ca857a",
   "metadata": {},
   "outputs": [],
   "source": []
  }
 ],
 "metadata": {
  "kernelspec": {
   "display_name": "Python 3 (ipykernel)",
   "language": "python",
   "name": "python3"
  },
  "language_info": {
   "codemirror_mode": {
    "name": "ipython",
    "version": 3
   },
   "file_extension": ".py",
   "mimetype": "text/x-python",
   "name": "python",
   "nbconvert_exporter": "python",
   "pygments_lexer": "ipython3",
   "version": "3.9.13"
  }
 },
 "nbformat": 4,
 "nbformat_minor": 5
}
