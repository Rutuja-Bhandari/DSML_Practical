{
 "cells": [
  {
   "cell_type": "markdown",
   "id": "1ca57541",
   "metadata": {},
   "source": [
    "17. Compute Accuracy, Error rate, Precision, Recall for following confusion\n",
    "matrix ( Use formula for each)\n"
   ]
  },
  {
   "cell_type": "code",
   "execution_count": null,
   "id": "65b179fa",
   "metadata": {},
   "outputs": [],
   "source": [
    "TP=int(input(\"Enter the true positive value\"))\n",
    "TN=int(input(\"Enter the true negative value\"))\n",
    "FP=int(input(\"Enter the false positive value\"))\n",
    "FN=int(input(\"Enter the false negative value\"))"
   ]
  },
  {
   "cell_type": "code",
   "execution_count": 3,
   "id": "18bb8ee6",
   "metadata": {},
   "outputs": [
    {
     "name": "stdout",
     "output_type": "stream",
     "text": [
      "Accuracy is  0.91\n"
     ]
    }
   ],
   "source": [
    "accuracy=(TP+TN)/(TP+TN+FP+FN)\n",
    "print(\"Accuracy is \",accuracy)"
   ]
  },
  {
   "cell_type": "code",
   "execution_count": 4,
   "id": "b8a01891",
   "metadata": {},
   "outputs": [
    {
     "name": "stdout",
     "output_type": "stream",
     "text": [
      "Error rate is  0.09\n"
     ]
    }
   ],
   "source": [
    "error_rate=(FP+FN)/(TP+TN+FP+FN)\n",
    "print(\"Error rate is \",error_rate)"
   ]
  },
  {
   "cell_type": "code",
   "execution_count": 5,
   "id": "7d94c248",
   "metadata": {},
   "outputs": [
    {
     "name": "stdout",
     "output_type": "stream",
     "text": [
      "preciion is  0.5\n"
     ]
    }
   ],
   "source": [
    "precision=(TP)/(TP+FP)\n",
    "print(\"preciion is \",precision)"
   ]
  },
  {
   "cell_type": "code",
   "execution_count": 6,
   "id": "80d50c34",
   "metadata": {},
   "outputs": [
    {
     "name": "stdout",
     "output_type": "stream",
     "text": [
      "Recall is  0.1111111111111111\n"
     ]
    }
   ],
   "source": [
    "recall=(TP)/(TP+FN)\n",
    "print(\"Recall is \",recall)"
   ]
  },
  {
   "cell_type": "code",
   "execution_count": null,
   "id": "b390a55c",
   "metadata": {},
   "outputs": [],
   "source": []
  }
 ],
 "metadata": {
  "kernelspec": {
   "display_name": "Python 3 (ipykernel)",
   "language": "python",
   "name": "python3"
  },
  "language_info": {
   "codemirror_mode": {
    "name": "ipython",
    "version": 3
   },
   "file_extension": ".py",
   "mimetype": "text/x-python",
   "name": "python",
   "nbconvert_exporter": "python",
   "pygments_lexer": "ipython3",
   "version": "3.9.13"
  }
 },
 "nbformat": 4,
 "nbformat_minor": 5
}
